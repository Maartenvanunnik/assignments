{
 "cells": [
  {
   "cell_type": "markdown",
   "metadata": {},
   "source": [
    "# Exam\n",
    "\n",
    "In this exam, we will work with the \"frequently requested health data” from the OECD.\n",
    "Your task is to compute a simple “efficiency score” and make three plots. \n",
    "\n",
    "\n",
    "You will earn a higher grade if you provide nicer graphs.  \n"
   ]
  },
  {
   "cell_type": "markdown",
   "metadata": {},
   "source": [
    "Now you need to call the libaries\n",
    "\n",
    "* ggplot2\n",
    "* dplyr\n",
    "\n"
   ]
  },
  {
   "cell_type": "markdown",
   "metadata": {},
   "source": [
    "Maarten van Unnik\n",
    "u1278163"
   ]
  },
  {
   "cell_type": "code",
   "execution_count": 2,
   "metadata": {},
   "outputs": [],
   "source": [
    "library(ggplot2)\n",
    "library(dplyr)\n",
    "\n"
   ]
  },
  {
   "cell_type": "markdown",
   "metadata": {},
   "source": [
    "Now you have to read the de data that we have cleaned during tutorial 3. The csv file is called oecddata.csv"
   ]
  },
  {
   "cell_type": "code",
   "execution_count": 4,
   "metadata": {},
   "outputs": [
    {
     "data": {
      "text/html": [
       "<table>\n",
       "<thead><tr><th scope=col>X</th><th scope=col>Country</th><th scope=col>Year</th><th scope=col>Cost</th><th scope=col>LE</th></tr></thead>\n",
       "<tbody>\n",
       "\t<tr><td> 1       </td><td>Australia</td><td>2005     </td><td>2842.132 </td><td>80.9     </td></tr>\n",
       "\t<tr><td> 2       </td><td>Australia</td><td>2006     </td><td>3023.098 </td><td>81.1     </td></tr>\n",
       "\t<tr><td> 3       </td><td>Australia</td><td>2007     </td><td>3196.226 </td><td>81.4     </td></tr>\n",
       "\t<tr><td> 4       </td><td>Australia</td><td>2008     </td><td>3310.171 </td><td>81.5     </td></tr>\n",
       "\t<tr><td> 5       </td><td>Australia</td><td>2009     </td><td>3564.405 </td><td>81.6     </td></tr>\n",
       "\t<tr><td> 6       </td><td>Australia</td><td>2010     </td><td>3607.341 </td><td>81.8     </td></tr>\n",
       "\t<tr><td> 7       </td><td>Australia</td><td>2011     </td><td>3794.087 </td><td>82.0     </td></tr>\n",
       "\t<tr><td> 8       </td><td>Australia</td><td>2012     </td><td>3807.682 </td><td>82.1     </td></tr>\n",
       "\t<tr><td> 9       </td><td>Australia</td><td>2013     </td><td>4176.853 </td><td>82.2     </td></tr>\n",
       "\t<tr><td>10       </td><td>Australia</td><td>2014     </td><td>4206.852 </td><td>82.4     </td></tr>\n",
       "\t<tr><td>11       </td><td>Australia</td><td>2015     </td><td>4420.436 </td><td>  NA     </td></tr>\n",
       "\t<tr><td>12       </td><td>Austria  </td><td>2005     </td><td>3324.079 </td><td>79.4     </td></tr>\n",
       "\t<tr><td>13       </td><td>Austria  </td><td>2006     </td><td>3567.649 </td><td>80.0     </td></tr>\n",
       "\t<tr><td>14       </td><td>Austria  </td><td>2007     </td><td>3718.739 </td><td>80.3     </td></tr>\n",
       "\t<tr><td>15       </td><td>Austria  </td><td>2008     </td><td>3964.849 </td><td>80.5     </td></tr>\n",
       "\t<tr><td>16       </td><td>Austria  </td><td>2009     </td><td>4119.745 </td><td>80.4     </td></tr>\n",
       "\t<tr><td>17       </td><td>Austria  </td><td>2010     </td><td>4236.316 </td><td>80.7     </td></tr>\n",
       "\t<tr><td>18       </td><td>Austria  </td><td>2011     </td><td>4362.343 </td><td>81.1     </td></tr>\n",
       "\t<tr><td>19       </td><td>Austria  </td><td>2012     </td><td>4646.436 </td><td>81.0     </td></tr>\n",
       "\t<tr><td>20       </td><td>Austria  </td><td>2013     </td><td>4806.393 </td><td>81.2     </td></tr>\n",
       "\t<tr><td>21       </td><td>Austria  </td><td>2014     </td><td>4895.999 </td><td>81.6     </td></tr>\n",
       "\t<tr><td>22       </td><td>Austria  </td><td>2015     </td><td>5015.637 </td><td>  NA     </td></tr>\n",
       "\t<tr><td>23       </td><td>Belgium  </td><td>2005     </td><td>2985.809 </td><td>79.1     </td></tr>\n",
       "\t<tr><td>24       </td><td>Belgium  </td><td>2006     </td><td>3136.916 </td><td>79.5     </td></tr>\n",
       "\t<tr><td>25       </td><td>Belgium  </td><td>2007     </td><td>3286.225 </td><td>79.9     </td></tr>\n",
       "\t<tr><td>26       </td><td>Belgium  </td><td>2008     </td><td>3542.354 </td><td>79.8     </td></tr>\n",
       "\t<tr><td>27       </td><td>Belgium  </td><td>2009     </td><td>3804.764 </td><td>80.1     </td></tr>\n",
       "\t<tr><td>28       </td><td>Belgium  </td><td>2010     </td><td>3901.913 </td><td>80.3     </td></tr>\n",
       "\t<tr><td>29       </td><td>Belgium  </td><td>2011     </td><td>4132.311 </td><td>80.7     </td></tr>\n",
       "\t<tr><td>30       </td><td>Belgium  </td><td>2012     </td><td>4286.412 </td><td>80.5     </td></tr>\n",
       "\t<tr><td>...</td><td>...</td><td>...</td><td>...</td><td>...</td></tr>\n",
       "\t<tr><td>356           </td><td>Turkey        </td><td>2008          </td><td> 827.3149     </td><td>73.9          </td></tr>\n",
       "\t<tr><td>357           </td><td>Turkey        </td><td>2009          </td><td> 841.2871     </td><td>74.1          </td></tr>\n",
       "\t<tr><td>358           </td><td>Turkey        </td><td>2010          </td><td> 852.6704     </td><td>74.3          </td></tr>\n",
       "\t<tr><td>359           </td><td>Turkey        </td><td>2011          </td><td> 887.9525     </td><td>74.6          </td></tr>\n",
       "\t<tr><td>360           </td><td>Turkey        </td><td>2012          </td><td> 911.2930     </td><td>74.6          </td></tr>\n",
       "\t<tr><td>361           </td><td>Turkey        </td><td>2013          </td><td> 969.3608     </td><td>78.0          </td></tr>\n",
       "\t<tr><td>362           </td><td>Turkey        </td><td>2014          </td><td> 990.1908     </td><td>78.0          </td></tr>\n",
       "\t<tr><td>363           </td><td>Turkey        </td><td>2015          </td><td>1063.5506     </td><td>  NA          </td></tr>\n",
       "\t<tr><td>364           </td><td>United Kingdom</td><td>2005          </td><td>2568.4680     </td><td>79.2          </td></tr>\n",
       "\t<tr><td>365           </td><td>United Kingdom</td><td>2006          </td><td>2784.4890     </td><td>79.5          </td></tr>\n",
       "\t<tr><td>366           </td><td>United Kingdom</td><td>2007          </td><td>2862.4300     </td><td>79.7          </td></tr>\n",
       "\t<tr><td>367           </td><td>United Kingdom</td><td>2008          </td><td>2971.1540     </td><td>79.8          </td></tr>\n",
       "\t<tr><td>368           </td><td>United Kingdom</td><td>2009          </td><td>3150.2390     </td><td>80.4          </td></tr>\n",
       "\t<tr><td>369           </td><td>United Kingdom</td><td>2010          </td><td>3036.1200     </td><td>80.6          </td></tr>\n",
       "\t<tr><td>370           </td><td>United Kingdom</td><td>2011          </td><td>3087.3060     </td><td>81.0          </td></tr>\n",
       "\t<tr><td>371           </td><td>United Kingdom</td><td>2012          </td><td>3191.9360     </td><td>81.0          </td></tr>\n",
       "\t<tr><td>372           </td><td>United Kingdom</td><td>2013          </td><td>3881.0900     </td><td>81.1          </td></tr>\n",
       "\t<tr><td>373           </td><td>United Kingdom</td><td>2014          </td><td>3971.3940     </td><td>81.4          </td></tr>\n",
       "\t<tr><td>374           </td><td>United Kingdom</td><td>2015          </td><td>4003.0024     </td><td>  NA          </td></tr>\n",
       "\t<tr><td>375           </td><td>United States </td><td>2005          </td><td>6445.7053     </td><td>77.4          </td></tr>\n",
       "\t<tr><td>376           </td><td>United States </td><td>2006          </td><td>6809.4762     </td><td>77.7          </td></tr>\n",
       "\t<tr><td>377           </td><td>United States </td><td>2007          </td><td>7163.1718     </td><td>77.9          </td></tr>\n",
       "\t<tr><td>378           </td><td>United States </td><td>2008          </td><td>7414.0435     </td><td>78.1          </td></tr>\n",
       "\t<tr><td>379           </td><td>United States </td><td>2009          </td><td>7684.7611     </td><td>78.5          </td></tr>\n",
       "\t<tr><td>380           </td><td>United States </td><td>2010          </td><td>7929.3720     </td><td>78.6          </td></tr>\n",
       "\t<tr><td>381           </td><td>United States </td><td>2011          </td><td>8171.0784     </td><td>78.7          </td></tr>\n",
       "\t<tr><td>382           </td><td>United States </td><td>2012          </td><td>8422.9900     </td><td>78.8          </td></tr>\n",
       "\t<tr><td>383           </td><td>United States </td><td>2013          </td><td>8617.4287     </td><td>78.8          </td></tr>\n",
       "\t<tr><td>384           </td><td>United States </td><td>2014          </td><td>9024.2064     </td><td>78.8          </td></tr>\n",
       "\t<tr><td>385           </td><td>United States </td><td>2015          </td><td>9451.3423     </td><td>  NA          </td></tr>\n",
       "</tbody>\n",
       "</table>\n"
      ],
      "text/latex": [
       "\\begin{tabular}{r|lllll}\n",
       " X & Country & Year & Cost & LE\\\\\n",
       "\\hline\n",
       "\t  1        & Australia & 2005      & 2842.132  & 80.9     \\\\\n",
       "\t  2        & Australia & 2006      & 3023.098  & 81.1     \\\\\n",
       "\t  3        & Australia & 2007      & 3196.226  & 81.4     \\\\\n",
       "\t  4        & Australia & 2008      & 3310.171  & 81.5     \\\\\n",
       "\t  5        & Australia & 2009      & 3564.405  & 81.6     \\\\\n",
       "\t  6        & Australia & 2010      & 3607.341  & 81.8     \\\\\n",
       "\t  7        & Australia & 2011      & 3794.087  & 82.0     \\\\\n",
       "\t  8        & Australia & 2012      & 3807.682  & 82.1     \\\\\n",
       "\t  9        & Australia & 2013      & 4176.853  & 82.2     \\\\\n",
       "\t 10        & Australia & 2014      & 4206.852  & 82.4     \\\\\n",
       "\t 11        & Australia & 2015      & 4420.436  &   NA     \\\\\n",
       "\t 12        & Austria   & 2005      & 3324.079  & 79.4     \\\\\n",
       "\t 13        & Austria   & 2006      & 3567.649  & 80.0     \\\\\n",
       "\t 14        & Austria   & 2007      & 3718.739  & 80.3     \\\\\n",
       "\t 15        & Austria   & 2008      & 3964.849  & 80.5     \\\\\n",
       "\t 16        & Austria   & 2009      & 4119.745  & 80.4     \\\\\n",
       "\t 17        & Austria   & 2010      & 4236.316  & 80.7     \\\\\n",
       "\t 18        & Austria   & 2011      & 4362.343  & 81.1     \\\\\n",
       "\t 19        & Austria   & 2012      & 4646.436  & 81.0     \\\\\n",
       "\t 20        & Austria   & 2013      & 4806.393  & 81.2     \\\\\n",
       "\t 21        & Austria   & 2014      & 4895.999  & 81.6     \\\\\n",
       "\t 22        & Austria   & 2015      & 5015.637  &   NA     \\\\\n",
       "\t 23        & Belgium   & 2005      & 2985.809  & 79.1     \\\\\n",
       "\t 24        & Belgium   & 2006      & 3136.916  & 79.5     \\\\\n",
       "\t 25        & Belgium   & 2007      & 3286.225  & 79.9     \\\\\n",
       "\t 26        & Belgium   & 2008      & 3542.354  & 79.8     \\\\\n",
       "\t 27        & Belgium   & 2009      & 3804.764  & 80.1     \\\\\n",
       "\t 28        & Belgium   & 2010      & 3901.913  & 80.3     \\\\\n",
       "\t 29        & Belgium   & 2011      & 4132.311  & 80.7     \\\\\n",
       "\t 30        & Belgium   & 2012      & 4286.412  & 80.5     \\\\\n",
       "\t ... & ... & ... & ... & ...\\\\\n",
       "\t 356            & Turkey         & 2008           &  827.3149      & 73.9          \\\\\n",
       "\t 357            & Turkey         & 2009           &  841.2871      & 74.1          \\\\\n",
       "\t 358            & Turkey         & 2010           &  852.6704      & 74.3          \\\\\n",
       "\t 359            & Turkey         & 2011           &  887.9525      & 74.6          \\\\\n",
       "\t 360            & Turkey         & 2012           &  911.2930      & 74.6          \\\\\n",
       "\t 361            & Turkey         & 2013           &  969.3608      & 78.0          \\\\\n",
       "\t 362            & Turkey         & 2014           &  990.1908      & 78.0          \\\\\n",
       "\t 363            & Turkey         & 2015           & 1063.5506      &   NA          \\\\\n",
       "\t 364            & United Kingdom & 2005           & 2568.4680      & 79.2          \\\\\n",
       "\t 365            & United Kingdom & 2006           & 2784.4890      & 79.5          \\\\\n",
       "\t 366            & United Kingdom & 2007           & 2862.4300      & 79.7          \\\\\n",
       "\t 367            & United Kingdom & 2008           & 2971.1540      & 79.8          \\\\\n",
       "\t 368            & United Kingdom & 2009           & 3150.2390      & 80.4          \\\\\n",
       "\t 369            & United Kingdom & 2010           & 3036.1200      & 80.6          \\\\\n",
       "\t 370            & United Kingdom & 2011           & 3087.3060      & 81.0          \\\\\n",
       "\t 371            & United Kingdom & 2012           & 3191.9360      & 81.0          \\\\\n",
       "\t 372            & United Kingdom & 2013           & 3881.0900      & 81.1          \\\\\n",
       "\t 373            & United Kingdom & 2014           & 3971.3940      & 81.4          \\\\\n",
       "\t 374            & United Kingdom & 2015           & 4003.0024      &   NA          \\\\\n",
       "\t 375            & United States  & 2005           & 6445.7053      & 77.4          \\\\\n",
       "\t 376            & United States  & 2006           & 6809.4762      & 77.7          \\\\\n",
       "\t 377            & United States  & 2007           & 7163.1718      & 77.9          \\\\\n",
       "\t 378            & United States  & 2008           & 7414.0435      & 78.1          \\\\\n",
       "\t 379            & United States  & 2009           & 7684.7611      & 78.5          \\\\\n",
       "\t 380            & United States  & 2010           & 7929.3720      & 78.6          \\\\\n",
       "\t 381            & United States  & 2011           & 8171.0784      & 78.7          \\\\\n",
       "\t 382            & United States  & 2012           & 8422.9900      & 78.8          \\\\\n",
       "\t 383            & United States  & 2013           & 8617.4287      & 78.8          \\\\\n",
       "\t 384            & United States  & 2014           & 9024.2064      & 78.8          \\\\\n",
       "\t 385            & United States  & 2015           & 9451.3423      &   NA          \\\\\n",
       "\\end{tabular}\n"
      ],
      "text/markdown": [
       "\n",
       "X | Country | Year | Cost | LE | \n",
       "|---|---|---|---|---|---|---|---|---|---|---|---|---|---|---|---|---|---|---|---|---|---|---|---|---|---|---|---|---|---|---|---|---|---|---|---|---|---|---|---|---|---|---|---|---|---|---|---|---|---|---|---|---|---|---|---|---|---|---|---|---|\n",
       "|  1        | Australia | 2005      | 2842.132  | 80.9      | \n",
       "|  2        | Australia | 2006      | 3023.098  | 81.1      | \n",
       "|  3        | Australia | 2007      | 3196.226  | 81.4      | \n",
       "|  4        | Australia | 2008      | 3310.171  | 81.5      | \n",
       "|  5        | Australia | 2009      | 3564.405  | 81.6      | \n",
       "|  6        | Australia | 2010      | 3607.341  | 81.8      | \n",
       "|  7        | Australia | 2011      | 3794.087  | 82.0      | \n",
       "|  8        | Australia | 2012      | 3807.682  | 82.1      | \n",
       "|  9        | Australia | 2013      | 4176.853  | 82.2      | \n",
       "| 10        | Australia | 2014      | 4206.852  | 82.4      | \n",
       "| 11        | Australia | 2015      | 4420.436  |   NA      | \n",
       "| 12        | Austria   | 2005      | 3324.079  | 79.4      | \n",
       "| 13        | Austria   | 2006      | 3567.649  | 80.0      | \n",
       "| 14        | Austria   | 2007      | 3718.739  | 80.3      | \n",
       "| 15        | Austria   | 2008      | 3964.849  | 80.5      | \n",
       "| 16        | Austria   | 2009      | 4119.745  | 80.4      | \n",
       "| 17        | Austria   | 2010      | 4236.316  | 80.7      | \n",
       "| 18        | Austria   | 2011      | 4362.343  | 81.1      | \n",
       "| 19        | Austria   | 2012      | 4646.436  | 81.0      | \n",
       "| 20        | Austria   | 2013      | 4806.393  | 81.2      | \n",
       "| 21        | Austria   | 2014      | 4895.999  | 81.6      | \n",
       "| 22        | Austria   | 2015      | 5015.637  |   NA      | \n",
       "| 23        | Belgium   | 2005      | 2985.809  | 79.1      | \n",
       "| 24        | Belgium   | 2006      | 3136.916  | 79.5      | \n",
       "| 25        | Belgium   | 2007      | 3286.225  | 79.9      | \n",
       "| 26        | Belgium   | 2008      | 3542.354  | 79.8      | \n",
       "| 27        | Belgium   | 2009      | 3804.764  | 80.1      | \n",
       "| 28        | Belgium   | 2010      | 3901.913  | 80.3      | \n",
       "| 29        | Belgium   | 2011      | 4132.311  | 80.7      | \n",
       "| 30        | Belgium   | 2012      | 4286.412  | 80.5      | \n",
       "| ... | ... | ... | ... | ... | \n",
       "| 356            | Turkey         | 2008           |  827.3149      | 73.9           | \n",
       "| 357            | Turkey         | 2009           |  841.2871      | 74.1           | \n",
       "| 358            | Turkey         | 2010           |  852.6704      | 74.3           | \n",
       "| 359            | Turkey         | 2011           |  887.9525      | 74.6           | \n",
       "| 360            | Turkey         | 2012           |  911.2930      | 74.6           | \n",
       "| 361            | Turkey         | 2013           |  969.3608      | 78.0           | \n",
       "| 362            | Turkey         | 2014           |  990.1908      | 78.0           | \n",
       "| 363            | Turkey         | 2015           | 1063.5506      |   NA           | \n",
       "| 364            | United Kingdom | 2005           | 2568.4680      | 79.2           | \n",
       "| 365            | United Kingdom | 2006           | 2784.4890      | 79.5           | \n",
       "| 366            | United Kingdom | 2007           | 2862.4300      | 79.7           | \n",
       "| 367            | United Kingdom | 2008           | 2971.1540      | 79.8           | \n",
       "| 368            | United Kingdom | 2009           | 3150.2390      | 80.4           | \n",
       "| 369            | United Kingdom | 2010           | 3036.1200      | 80.6           | \n",
       "| 370            | United Kingdom | 2011           | 3087.3060      | 81.0           | \n",
       "| 371            | United Kingdom | 2012           | 3191.9360      | 81.0           | \n",
       "| 372            | United Kingdom | 2013           | 3881.0900      | 81.1           | \n",
       "| 373            | United Kingdom | 2014           | 3971.3940      | 81.4           | \n",
       "| 374            | United Kingdom | 2015           | 4003.0024      |   NA           | \n",
       "| 375            | United States  | 2005           | 6445.7053      | 77.4           | \n",
       "| 376            | United States  | 2006           | 6809.4762      | 77.7           | \n",
       "| 377            | United States  | 2007           | 7163.1718      | 77.9           | \n",
       "| 378            | United States  | 2008           | 7414.0435      | 78.1           | \n",
       "| 379            | United States  | 2009           | 7684.7611      | 78.5           | \n",
       "| 380            | United States  | 2010           | 7929.3720      | 78.6           | \n",
       "| 381            | United States  | 2011           | 8171.0784      | 78.7           | \n",
       "| 382            | United States  | 2012           | 8422.9900      | 78.8           | \n",
       "| 383            | United States  | 2013           | 8617.4287      | 78.8           | \n",
       "| 384            | United States  | 2014           | 9024.2064      | 78.8           | \n",
       "| 385            | United States  | 2015           | 9451.3423      |   NA           | \n",
       "\n",
       "\n"
      ],
      "text/plain": [
       "    X   Country        Year Cost      LE  \n",
       "1    1  Australia      2005 2842.132  80.9\n",
       "2    2  Australia      2006 3023.098  81.1\n",
       "3    3  Australia      2007 3196.226  81.4\n",
       "4    4  Australia      2008 3310.171  81.5\n",
       "5    5  Australia      2009 3564.405  81.6\n",
       "6    6  Australia      2010 3607.341  81.8\n",
       "7    7  Australia      2011 3794.087  82.0\n",
       "8    8  Australia      2012 3807.682  82.1\n",
       "9    9  Australia      2013 4176.853  82.2\n",
       "10  10  Australia      2014 4206.852  82.4\n",
       "11  11  Australia      2015 4420.436    NA\n",
       "12  12  Austria        2005 3324.079  79.4\n",
       "13  13  Austria        2006 3567.649  80.0\n",
       "14  14  Austria        2007 3718.739  80.3\n",
       "15  15  Austria        2008 3964.849  80.5\n",
       "16  16  Austria        2009 4119.745  80.4\n",
       "17  17  Austria        2010 4236.316  80.7\n",
       "18  18  Austria        2011 4362.343  81.1\n",
       "19  19  Austria        2012 4646.436  81.0\n",
       "20  20  Austria        2013 4806.393  81.2\n",
       "21  21  Austria        2014 4895.999  81.6\n",
       "22  22  Austria        2015 5015.637    NA\n",
       "23  23  Belgium        2005 2985.809  79.1\n",
       "24  24  Belgium        2006 3136.916  79.5\n",
       "25  25  Belgium        2007 3286.225  79.9\n",
       "26  26  Belgium        2008 3542.354  79.8\n",
       "27  27  Belgium        2009 3804.764  80.1\n",
       "28  28  Belgium        2010 3901.913  80.3\n",
       "29  29  Belgium        2011 4132.311  80.7\n",
       "30  30  Belgium        2012 4286.412  80.5\n",
       "... ... ...            ...  ...       ... \n",
       "356 356 Turkey         2008  827.3149 73.9\n",
       "357 357 Turkey         2009  841.2871 74.1\n",
       "358 358 Turkey         2010  852.6704 74.3\n",
       "359 359 Turkey         2011  887.9525 74.6\n",
       "360 360 Turkey         2012  911.2930 74.6\n",
       "361 361 Turkey         2013  969.3608 78.0\n",
       "362 362 Turkey         2014  990.1908 78.0\n",
       "363 363 Turkey         2015 1063.5506   NA\n",
       "364 364 United Kingdom 2005 2568.4680 79.2\n",
       "365 365 United Kingdom 2006 2784.4890 79.5\n",
       "366 366 United Kingdom 2007 2862.4300 79.7\n",
       "367 367 United Kingdom 2008 2971.1540 79.8\n",
       "368 368 United Kingdom 2009 3150.2390 80.4\n",
       "369 369 United Kingdom 2010 3036.1200 80.6\n",
       "370 370 United Kingdom 2011 3087.3060 81.0\n",
       "371 371 United Kingdom 2012 3191.9360 81.0\n",
       "372 372 United Kingdom 2013 3881.0900 81.1\n",
       "373 373 United Kingdom 2014 3971.3940 81.4\n",
       "374 374 United Kingdom 2015 4003.0024   NA\n",
       "375 375 United States  2005 6445.7053 77.4\n",
       "376 376 United States  2006 6809.4762 77.7\n",
       "377 377 United States  2007 7163.1718 77.9\n",
       "378 378 United States  2008 7414.0435 78.1\n",
       "379 379 United States  2009 7684.7611 78.5\n",
       "380 380 United States  2010 7929.3720 78.6\n",
       "381 381 United States  2011 8171.0784 78.7\n",
       "382 382 United States  2012 8422.9900 78.8\n",
       "383 383 United States  2013 8617.4287 78.8\n",
       "384 384 United States  2014 9024.2064 78.8\n",
       "385 385 United States  2015 9451.3423   NA"
      ]
     },
     "metadata": {},
     "output_type": "display_data"
    }
   ],
   "source": [
    "oecd <- read.csv2(\"oecddata.csv\",sep=\";\")\n",
    "oecd"
   ]
  },
  {
   "cell_type": "markdown",
   "metadata": {},
   "source": [
    "To see how the data look like, use the command:\n",
    "\n",
    "head(oecd)\n",
    "\n",
    "With the command\n",
    "\n",
    "oecd\n",
    "\n",
    "\n",
    "You can see the dataset in total."
   ]
  },
  {
   "cell_type": "code",
   "execution_count": 5,
   "metadata": {},
   "outputs": [
    {
     "data": {
      "text/html": [
       "<table>\n",
       "<thead><tr><th scope=col>X</th><th scope=col>Country</th><th scope=col>Year</th><th scope=col>Cost</th><th scope=col>LE</th></tr></thead>\n",
       "<tbody>\n",
       "\t<tr><td>1        </td><td>Australia</td><td>2005     </td><td>2842.132 </td><td>80.9     </td></tr>\n",
       "\t<tr><td>2        </td><td>Australia</td><td>2006     </td><td>3023.098 </td><td>81.1     </td></tr>\n",
       "\t<tr><td>3        </td><td>Australia</td><td>2007     </td><td>3196.226 </td><td>81.4     </td></tr>\n",
       "\t<tr><td>4        </td><td>Australia</td><td>2008     </td><td>3310.171 </td><td>81.5     </td></tr>\n",
       "\t<tr><td>5        </td><td>Australia</td><td>2009     </td><td>3564.405 </td><td>81.6     </td></tr>\n",
       "\t<tr><td>6        </td><td>Australia</td><td>2010     </td><td>3607.341 </td><td>81.8     </td></tr>\n",
       "</tbody>\n",
       "</table>\n"
      ],
      "text/latex": [
       "\\begin{tabular}{r|lllll}\n",
       " X & Country & Year & Cost & LE\\\\\n",
       "\\hline\n",
       "\t 1         & Australia & 2005      & 2842.132  & 80.9     \\\\\n",
       "\t 2         & Australia & 2006      & 3023.098  & 81.1     \\\\\n",
       "\t 3         & Australia & 2007      & 3196.226  & 81.4     \\\\\n",
       "\t 4         & Australia & 2008      & 3310.171  & 81.5     \\\\\n",
       "\t 5         & Australia & 2009      & 3564.405  & 81.6     \\\\\n",
       "\t 6         & Australia & 2010      & 3607.341  & 81.8     \\\\\n",
       "\\end{tabular}\n"
      ],
      "text/markdown": [
       "\n",
       "X | Country | Year | Cost | LE | \n",
       "|---|---|---|---|---|---|\n",
       "| 1         | Australia | 2005      | 2842.132  | 80.9      | \n",
       "| 2         | Australia | 2006      | 3023.098  | 81.1      | \n",
       "| 3         | Australia | 2007      | 3196.226  | 81.4      | \n",
       "| 4         | Australia | 2008      | 3310.171  | 81.5      | \n",
       "| 5         | Australia | 2009      | 3564.405  | 81.6      | \n",
       "| 6         | Australia | 2010      | 3607.341  | 81.8      | \n",
       "\n",
       "\n"
      ],
      "text/plain": [
       "  X Country   Year Cost     LE  \n",
       "1 1 Australia 2005 2842.132 80.9\n",
       "2 2 Australia 2006 3023.098 81.1\n",
       "3 3 Australia 2007 3196.226 81.4\n",
       "4 4 Australia 2008 3310.171 81.5\n",
       "5 5 Australia 2009 3564.405 81.6\n",
       "6 6 Australia 2010 3607.341 81.8"
      ]
     },
     "metadata": {},
     "output_type": "display_data"
    }
   ],
   "source": [
    "head(oecd)"
   ]
  },
  {
   "cell_type": "markdown",
   "metadata": {},
   "source": [
    "## Graphs"
   ]
  },
  {
   "cell_type": "markdown",
   "metadata": {},
   "source": [
    "To make the graphs we need to make selections of the data. Please use \"dplyr\" (commands \"select\" and \"filter\") and the \"pipe\". The first assignment is to make a scatterplot using \"ggplot\". The graph contains data for all countries for the year 2014. Therefore make a dataframe with dplyr first, called \"graph1\" with the required data.\n",
    "Then, make a scatterplot with \"Cost\" on the x-axis and \"LE\" on the y-axis. You have to add a regression line with a shaded area for the confidence interval."
   ]
  },
  {
   "cell_type": "code",
   "execution_count": 11,
   "metadata": {},
   "outputs": [
    {
     "name": "stderr",
     "output_type": "stream",
     "text": [
      "Warning message:\n",
      "\"Removed 1 rows containing non-finite values (stat_smooth).\"Warning message:\n",
      "\"Removed 1 rows containing missing values (geom_point).\""
     ]
    },
    {
     "data": {},
     "metadata": {},
     "output_type": "display_data"
    },
    {
     "data": {
      "image/png": "[encoded data removed]",
      "text/plain": [
       "plot without title"
      ]
     },
     "metadata": {},
     "output_type": "display_data"
    }
   ],
   "source": [
    "graph1 <- oecd %>%\n",
    "filter(oecd$Year == 2014) %>% \n",
    "select(Country,Cost, LE)  \n",
    "\n",
    "ggplot(graph1, aes(x= Cost, y= LE)) + geom_smooth(method=lm) + geom_point(aes(colour = Cost)) + scale_colour_gradient(low = \"red\")\n"
   ]
  },
  {
   "cell_type": "markdown",
   "metadata": {},
   "source": [
    "The second assignment is to make a line graph. You will use the years 2005-2015 for 5 countries (you can choose your own countries). Make a new dataframe called graph2 with the required data. Then, make a line graph with \"Year\"  and \"Cost\" on the y-axis. There should be coloured lines per country and a legend attached. "
   ]
  },
  {
   "cell_type": "code",
   "execution_count": 13,
   "metadata": {},
   "outputs": [
    {
     "data": {},
     "metadata": {},
     "output_type": "display_data"
    },
    {
     "data": {
      "image/png": "[encoded data removed]",
      "text/plain": [
       "plot without title"
      ]
     },
     "metadata": {},
     "output_type": "display_data"
    }
   ],
   "source": [
    "graph2 <- oecd %>%\n",
    "filter(Year > 2004, Year < 2016, oecd$Country %in% c(\"Spain\",\"Belgium\",\"Netherlands\",\"Luxembourg\",\"Sweden\"))\n",
    "\n",
    "ggplot(graph2, aes(x = Year, y = Cost)) + geom_line(aes(colour = Country))"
   ]
  },
  {
   "cell_type": "markdown",
   "metadata": {},
   "source": [
    "## Efficiency scores\n",
    "\n",
    "The last assignment is to compute simple effiency scores. We will use the year 2014 for all countries (i.e. the dataframe \"graph1\").\n",
    "Make a new dateframe called \"eff\" (using graph1). Please use the \"pipe\" to execute to following steps:\n",
    "Select all the variables except the NA's (hint: use na.omit) and create a new column called \"Ratio\" with mutate. Ratio is defined as \"Cost/LE\" (cost per output).\n",
    "Create a new column called \"Score\" with mutate. Score is the ratio per country divided by the lowest ratio in the dataframe.\n",
    "To complete this dataframe order the dataset using \"arrange\" based on score (i.e. lowest Score first).\n",
    "\n",
    "\n",
    "Finally make a bar chart using ggplot. Countries should be on the x-axis and \"Score\" on the y-axis. \n",
    "\n",
    "\n",
    "\n",
    "You can earn extra points if you are able to order the graph based on scores (lowest first, highest last), if you are able to make the x-axis readable, make the bar of the Netherlands red and the other bars blue and/or change the name of the y-axis to \"Efficiency scores according to [your name]\" \n",
    "\n",
    "\n",
    "The figure should like this:\n",
    "\n",
    "![My Figure](eff.png)"
   ]
  },
  {
   "cell_type": "code",
   "execution_count": 8,
   "metadata": {
    "collapsed": true
   },
   "outputs": [],
   "source": [
    "eff <- graph1 %>% \n",
    "na.omit() %>%\n",
    "mutate(Ratio = Cost/LE) %>%\n",
    "mutate(Score = min(Ratio) / Ratio) %>%\n",
    "arrange(Score)"
   ]
  },
  {
   "cell_type": "code",
   "execution_count": 21,
   "metadata": {},
   "outputs": [
    {
     "data": {},
     "metadata": {},
     "output_type": "display_data"
    },
    {
     "data": {
      "image/png": "[encoded data removed]",
      "text/plain": [
       "plot without title"
      ]
     },
     "metadata": {},
     "output_type": "display_data"
    }
   ],
   "source": [
    "effchart <- ggplot(eff, mapping = aes(x = reorder(Country, Score), y = Score, fill = Country)) + geom_bar(stat = \"identity\", width = 0.80)  + theme(text = element_text(size=9), axis.text.x = element_text(angle = 90, hjust = 1)) +  scale_fill_manual(values = c(rep(\"blue\",21),rep(\"red\",1),rep(\"blue\",12))) + xlab(\"Country\") + ylab(\"efficiency scores according to Maarten\")\n",
    "effchart"
   ]
  },
  {
   "cell_type": "code",
   "execution_count": null,
   "metadata": {
    "collapsed": true
   },
   "outputs": [],
   "source": []
  },
  {
   "cell_type": "code",
   "execution_count": null,
   "metadata": {
    "collapsed": true
   },
   "outputs": [],
   "source": []
  },
  {
   "cell_type": "code",
   "execution_count": null,
   "metadata": {
    "collapsed": true
   },
   "outputs": [],
   "source": []
  }
 ],
 "metadata": {
  "anaconda-cloud": {},
  "kernelspec": {
   "display_name": "R",
   "language": "R",
   "name": "ir"
  },
  "language_info": {
   "codemirror_mode": "r",
   "file_extension": ".r",
   "mimetype": "text/x-r-source",
   "name": "R",
   "pygments_lexer": "r",
   "version": "3.3.2"
  }
 },
 "nbformat": 4,
 "nbformat_minor": 1
}
